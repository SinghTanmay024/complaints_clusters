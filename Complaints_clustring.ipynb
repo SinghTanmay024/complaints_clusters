{
  "nbformat": 4,
  "nbformat_minor": 0,
  "metadata": {
    "colab": {
      "provenance": []
    },
    "kernelspec": {
      "name": "python3",
      "display_name": "Python 3"
    },
    "language_info": {
      "name": "python"
    }
  },
  "cells": [
    {
      "cell_type": "code",
      "execution_count": 6,
      "metadata": {
        "colab": {
          "base_uri": "https://localhost:8080/"
        },
        "id": "sVmEPMCKK3gd",
        "outputId": "42c2ea61-69a1-40f5-f6a5-816dab191e51"
      },
      "outputs": [
        {
          "output_type": "stream",
          "name": "stderr",
          "text": [
            "[nltk_data] Downloading package punkt to /root/nltk_data...\n",
            "[nltk_data]   Package punkt is already up-to-date!\n",
            "[nltk_data] Downloading package stopwords to /root/nltk_data...\n",
            "[nltk_data]   Package stopwords is already up-to-date!\n"
          ]
        },
        {
          "output_type": "execute_result",
          "data": {
            "text/plain": [
              "True"
            ]
          },
          "metadata": {},
          "execution_count": 6
        }
      ],
      "source": [
        "import csv\n",
        "import nltk\n",
        "import pandas as pd\n",
        "from nltk import sent_tokenize, word_tokenize\n",
        "from nltk.corpus import stopwords\n",
        "from collections import Counter\n",
        "import nltk\n",
        "import csv\n",
        "from nltk.tokenize import word_tokenize, sent_tokenize\n",
        "from nltk.corpus import stopwords\n",
        "nltk.download(\"punkt\")\n",
        "nltk.download(\"stopwords\")"
      ]
    },
    {
      "cell_type": "code",
      "source": [
        "df = pd.read_csv('/content/comcast_consumeraffairs_complaints.csv')"
      ],
      "metadata": {
        "id": "bnwIner1LgYK"
      },
      "execution_count": 3,
      "outputs": []
    },
    {
      "cell_type": "code",
      "source": [
        "name = df['text'].to_string(index=False)\n",
        "wtb =open('complaints.txt','w')\n",
        "wtb.write(name)\n",
        "wtb.close()"
      ],
      "metadata": {
        "id": "HVpQviypLAoO"
      },
      "execution_count": 4,
      "outputs": []
    },
    {
      "cell_type": "code",
      "source": [
        "def summarize_line_in_one_word(line):\n",
        "    words = word_tokenize(line)\n",
        "\n",
        "    stop_words = set(stopwords.words('english'))\n",
        "    filtered_words = [word for word in words if word.lower() not in stop_words]\n",
        "\n",
        "    word_frequency = nltk.FreqDist(filtered_words)\n",
        "    summary_word = word_frequency.most_common(1)[0][0]\n",
        "\n",
        "    return summary_word"
      ],
      "metadata": {
        "id": "qKB2VWANMJao"
      },
      "execution_count": 7,
      "outputs": []
    },
    {
      "cell_type": "code",
      "source": [
        "def process_text_file(input_file_path, output_csv_path):\n",
        "    with open(input_file_path, 'r') as input_file, open(output_csv_path, 'w', newline='') as output_file:\n",
        "        csv_writer = csv.writer(output_file)\n",
        "        csv_writer.writerow(['Text', 'Title'])\n",
        "\n",
        "        for line in input_file:\n",
        "            line = line.strip()\n",
        "            if line:\n",
        "                title = summarize_line_in_one_word(line)\n",
        "                csv_writer.writerow([line, title])"
      ],
      "metadata": {
        "id": "Tg22XSvXLCua"
      },
      "execution_count": 8,
      "outputs": []
    },
    {
      "cell_type": "code",
      "source": [
        "input_file_path = 'complaints.txt'\n",
        "output_csv_path = 'output_summary.csv'\n",
        "\n",
        "process_text_file(input_file_path, output_csv_path)\n",
        "print(f\"Text summarized and saved to {output_csv_path}\")"
      ],
      "metadata": {
        "colab": {
          "base_uri": "https://localhost:8080/"
        },
        "id": "XI8iQuuDLyYO",
        "outputId": "3a30d69c-f5b7-4630-b34d-3cd8fd794852"
      },
      "execution_count": 9,
      "outputs": [
        {
          "output_type": "stream",
          "name": "stdout",
          "text": [
            "Text summarized and saved to output_summary.csv\n"
          ]
        }
      ]
    },
    {
      "cell_type": "code",
      "source": [],
      "metadata": {
        "id": "QAn-jf07MUAb"
      },
      "execution_count": null,
      "outputs": []
    }
  ]
}